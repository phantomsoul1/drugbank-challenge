{
 "cells": [
  {
   "cell_type": "code",
   "execution_count": 1,
   "metadata": {},
   "outputs": [],
   "source": [
    "from bs4 import BeautifulSoup\n",
    "from pprint import pprint\n",
    "import requests"
   ]
  },
  {
   "cell_type": "code",
   "execution_count": 3,
   "metadata": {},
   "outputs": [],
   "source": [
    "base_url = 'https://www.drugbank.ca/drugs/'\n",
    "drug = 'DB01048'"
   ]
  },
  {
   "cell_type": "code",
   "execution_count": 4,
   "metadata": {},
   "outputs": [],
   "source": [
    "# Build the URL for the current drug and get its document\n",
    "url = base_url + drug\n",
    "response = requests.get(url)\n",
    "\n",
    "# Parse document; using html5lib to ensure tags such as dl, dt, and dd\n",
    "# are parsed correctly\n",
    "soup = BeautifulSoup(response.text, 'html5lib')"
   ]
  },
  {
   "cell_type": "code",
   "execution_count": 6,
   "metadata": {},
   "outputs": [
    {
     "name": "stdout",
     "output_type": "stream",
     "text": [
      "<div class=\"bond-list-container targets\" id=\"targets\"><h3>Targets</h3><div class=\"bond-list\"><div class=\"bond card\" id=\"BE0004136\"><div class=\"card-header\"><a class=\"btn btn-drugbank-secondary btn-sm bond-details-link ml-3\" href=\"/polypeptides/Q72547\"><div class=\"drugbank-icon icon-expand\"><svg class=\"icon\" role=\"img\" title=\"expand\"> <use xlink:href=\"/assets/icons-29067d237dfdaafcf9268d04bfd22e2f960c1a23687e061e0a368b01b627fa5b.svg#expand\"> </use></svg></div> Details</a><strong>1. <a href=\"/polypeptides/Q72547\">Reverse transcriptase/RNaseH</a></strong></div><div class=\"card-body\"><div class=\"row\"><div class=\"col-sm-12 col-lg-5\"><dl><dt class=\"col-md-5 col-sm-6\" id=\"kind\">Kind</dt><dd class=\"col-md-7 col-sm-6\">Protein</dd><dt class=\"col-md-5 col-sm-6\" id=\"organism\">Organism</dt><dd class=\"col-md-7 col-sm-6\">Human immunodeficiency virus 1</dd><dt class=\"col-md-5 col-sm-6\" id=\"pharmacological-action\">Pharmacological action</dt><dd class=\"col-md-7 col-sm-6\"><div class=\"badge badge badge-yes\">Yes</div></dd><dt class=\"col-md-5 col-sm-6\" id=\"actions\">Actions</dt><dd class=\"col-md-7 col-sm-6\"><div class=\"badge badge-pill badge-action\">Inhibitor</div></dd></dl></div><div class=\"col-sm-12 col-lg-7\"><dl><dt class=\"col-md-5 col-sm-6\" id=\"general-function\">General Function</dt><dd class=\"col-md-7 col-sm-6\">Rna-dna hybrid ribonuclease activity</dd><dt class=\"col-md-5 col-sm-6\" id=\"specific-function\">Specific Function</dt><dd class=\"col-md-7 col-sm-6\"><span class=\"not-available\">Not Available</span></dd><dt class=\"col-md-5 col-sm-6\" id=\"gene-name\">Gene Name</dt><dd class=\"col-md-7 col-sm-6\">pol</dd><dt class=\"col-md-5 col-sm-6\" id=\"uniprot-id\">Uniprot ID</dt><dd class=\"col-md-7 col-sm-6\"><a href=\"http://www.uniprot.org/uniprot/Q72547\" rel=\"noopener\" target=\"_blank\">Q72547</a></dd><dt class=\"col-md-5 col-sm-6\" id=\"uniprot-name\">Uniprot Name</dt><dd class=\"col-md-7 col-sm-6\">Reverse transcriptase/RNaseH</dd><dt class=\"col-md-5 col-sm-6\" id=\"molecular-weight\">Molecular Weight</dt><dd class=\"col-md-7 col-sm-6\">65223.615 Da</dd></dl></div></div><h5>References</h5><div class=\"references\"><ol class=\"cite-this-references\"><li id=\"reference-A17428\">De Clercq E: New anti-HIV agents and targets. Med Res Rev. 2002 Nov;22(6):531-65. [<a href=\"http://www.ncbi.nlm.nih.gov/pubmed/12369088\" rel=\"noopener\" target=\"_blank\">PubMed:12369088</a>] </li><li id=\"reference-A17429\">Faletto MB, Miller WH, Garvey EP, St Clair MH, Daluge SM, Good SS: Unique intracellular activation of the potent anti-human immunodeficiency virus agent 1592U89. Antimicrob Agents Chemother. 1997 May;41(5):1099-107. [<a href=\"http://www.ncbi.nlm.nih.gov/pubmed/9145876\" rel=\"noopener\" target=\"_blank\">PubMed:9145876</a>] </li><li id=\"reference-A17430\">Crimmins MT, King BW: An Efficient Asymmetric Approach to Carbocyclic Nucleosides: Asymmetric Synthesis of 1592U89, a Potent Inhibitor of HIV Reverse Transcriptase. J Org Chem. 1996 Jun 26;61(13):4192-4193. [<a href=\"http://www.ncbi.nlm.nih.gov/pubmed/11667311\" rel=\"noopener\" target=\"_blank\">PubMed:11667311</a>] </li></ol></div></div></div><div class=\"bond card\" id=\"BE0009142\"><div class=\"card-header\"><strong>2. HLA class I histocompatibility antigen, B-57 alpha chain</strong></div><div class=\"card-body\"><dt class=\"col-md-5 col-sm-6\" id=\"kind\">Kind</dt><dd class=\"col-md-7 col-sm-6\">Protein</dd><dt class=\"col-md-5 col-sm-6\" id=\"organism\">Organism</dt><dd class=\"col-md-7 col-sm-6\">Humans</dd><dt class=\"col-md-5 col-sm-6\" id=\"pharmacological-action\">Pharmacological action</dt><dd class=\"col-md-7 col-sm-6\"><div class=\"badge badge badge-unknown\">Unknown</div></dd><h5>References</h5><div class=\"references\"><ol class=\"cite-this-references\"><li id=\"reference-A20113\">Yang L, Chen J, He L: Harvesting candidate genes responsible for serious adverse drug reactions from a chemical-protein interactome. PLoS Comput Biol. 2009 Jul;5(7):e1000441. doi: 10.1371/journal.pcbi.1000441. Epub 2009 Jul 24. [<a href=\"http://www.ncbi.nlm.nih.gov/pubmed/19629158\" rel=\"noopener\" target=\"_blank\">PubMed:19629158</a>] </li></ol></div></div></div></div></div>\n"
     ]
    }
   ],
   "source": [
    "targets = soup.find(id='targets')\n",
    "pprint(targets)"
   ]
  },
  {
   "cell_type": "code",
   "execution_count": 15,
   "metadata": {},
   "outputs": [
    {
     "name": "stdout",
     "output_type": "stream",
     "text": [
      "2\n"
     ]
    }
   ],
   "source": [
    "bond_list = targets.find('div', class_='bond-list')\n",
    "bond_cards = bond_list.find_all('div', class_='bond card')\n",
    "pprint(len(bond_cards))"
   ]
  },
  {
   "cell_type": "code",
   "execution_count": 16,
   "metadata": {},
   "outputs": [
    {
     "ename": "AttributeError",
     "evalue": "'NoneType' object has no attribute 'next_sibling'",
     "output_type": "error",
     "traceback": [
      "\u001b[0;31m---------------------------------------------------------------------------\u001b[0m",
      "\u001b[0;31mAttributeError\u001b[0m                            Traceback (most recent call last)",
      "\u001b[0;32m<ipython-input-16-17f97032487e>\u001b[0m in \u001b[0;36m<module>\u001b[0;34m\u001b[0m\n\u001b[1;32m      7\u001b[0m \u001b[0;31m# tag following a tag with id 'actions'\u001b[0m\u001b[0;34m\u001b[0m\u001b[0;34m\u001b[0m\u001b[0;34m\u001b[0m\u001b[0m\n\u001b[1;32m      8\u001b[0m \u001b[0mtarget\u001b[0m\u001b[0;34m[\u001b[0m\u001b[0;34m'actions'\u001b[0m\u001b[0;34m]\u001b[0m \u001b[0;34m=\u001b[0m \u001b[0;34m[\u001b[0m\u001b[0;34m]\u001b[0m\u001b[0;34m\u001b[0m\u001b[0;34m\u001b[0m\u001b[0m\n\u001b[0;32m----> 9\u001b[0;31m \u001b[0mactions\u001b[0m \u001b[0;34m=\u001b[0m \u001b[0mbond_card\u001b[0m\u001b[0;34m.\u001b[0m\u001b[0mfind\u001b[0m\u001b[0;34m(\u001b[0m\u001b[0mid\u001b[0m\u001b[0;34m=\u001b[0m\u001b[0;34m'actions'\u001b[0m\u001b[0;34m)\u001b[0m\u001b[0;34m.\u001b[0m\u001b[0mnext_sibling\u001b[0m\u001b[0;34m.\u001b[0m\u001b[0mfind_all\u001b[0m\u001b[0;34m(\u001b[0m\u001b[0;34m)\u001b[0m\u001b[0;34m\u001b[0m\u001b[0;34m\u001b[0m\u001b[0m\n\u001b[0m\u001b[1;32m     10\u001b[0m \u001b[0;34m\u001b[0m\u001b[0m\n\u001b[1;32m     11\u001b[0m \u001b[0mprint\u001b[0m\u001b[0;34m(\u001b[0m\u001b[0mactions\u001b[0m\u001b[0;34m)\u001b[0m\u001b[0;34m\u001b[0m\u001b[0;34m\u001b[0m\u001b[0m\n",
      "\u001b[0;31mAttributeError\u001b[0m: 'NoneType' object has no attribute 'next_sibling'"
     ]
    }
   ],
   "source": [
    "# Iterate through all the cards in the list found here\n",
    "bond_card = bond_cards[1]\n",
    "\n",
    "target = {}\n",
    "\n",
    "# ACTIONS - located within the bond-card in a list of elements in the \n",
    "# tag following a tag with id 'actions'\n",
    "target['actions'] = []\n",
    "actions = bond_card.find(id='actions').next_sibling.find_all()\n",
    "\n",
    "print(actions)"
   ]
  },
  {
   "cell_type": "code",
   "execution_count": 13,
   "metadata": {},
   "outputs": [
    {
     "name": "stdout",
     "output_type": "stream",
     "text": [
      "Inhibitor\n"
     ]
    }
   ],
   "source": [
    "for action in actions:\n",
    "    print(action.text)"
   ]
  },
  {
   "cell_type": "code",
   "execution_count": 14,
   "metadata": {},
   "outputs": [
    {
     "name": "stdout",
     "output_type": "stream",
     "text": [
      "pol\n"
     ]
    }
   ],
   "source": [
    "# GENE NAME - located within the bond-card in the text of the tag\n",
    "# following a tag with id 'gene-name'\n",
    "gene_name = bond_card.find(id='gene-name').next_sibling.text\n",
    "print(gene_name)"
   ]
  },
  {
   "cell_type": "code",
   "execution_count": null,
   "metadata": {},
   "outputs": [],
   "source": []
  }
 ],
 "metadata": {
  "kernelspec": {
   "display_name": "Python 3",
   "language": "python",
   "name": "python3"
  },
  "language_info": {
   "codemirror_mode": {
    "name": "ipython",
    "version": 3
   },
   "file_extension": ".py",
   "mimetype": "text/x-python",
   "name": "python",
   "nbconvert_exporter": "python",
   "pygments_lexer": "ipython3",
   "version": "3.7.6"
  }
 },
 "nbformat": 4,
 "nbformat_minor": 4
}
